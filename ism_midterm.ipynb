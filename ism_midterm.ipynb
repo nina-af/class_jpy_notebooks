{
 "cells": [
  {
   "cell_type": "code",
   "execution_count": 1,
   "id": "125a7deb",
   "metadata": {},
   "outputs": [],
   "source": [
    "import numpy as np\n",
    "import matplotlib as mpl\n",
    "import matplotlib.pyplot as plt\n",
    "import pandas as pd"
   ]
  },
  {
   "cell_type": "code",
   "execution_count": 2,
   "id": "ec8b8e23-b2a7-4afe-9422-3ef1408a1ae6",
   "metadata": {},
   "outputs": [],
   "source": [
    "df = pd.read_csv(\"alves_lada_nature_data.csv\")\n",
    "df.head()\n",
    "radius_au = np.asarray(df['radius_au'])\n",
    "visual_extinction = np.asarray(df['visual_extinction'])"
   ]
  },
  {
   "cell_type": "markdown",
   "id": "867cde07",
   "metadata": {},
   "source": [
    "$\\newcommand{\\vec}[1]{{\\mathbf{\\boldsymbol{{#1}}}}}$\n",
    "\n",
    "## Numerical solution to Lane-Emden equation.\n",
    "\n",
    "### 1. Isothermal sphere in hydrostatic equilibrium.\n",
    "\n",
    "* momentum equation: $\\quad \\rho \\frac{d\\vec{v}}{dt} + \\vec{\\nabla}P + \\rho \\vec{\\nabla} \\Phi = 0 \\quad \\longrightarrow \\quad \\frac{1}{\\rho} \\vec{\\nabla}P = -\\vec{\\nabla} \\Phi \\quad$ (in hydrostatic equilibrium).\n",
    "* gradient in spherical coordinates: $\\quad \\vec{\\nabla} = \\left( \\frac{\\partial}{\\partial r} \\vec{\\hat{r}} + \\frac{1}{r} \\frac{\\partial}{\\partial \\theta} \\vec{\\hat{\\theta}} + \\frac{1}{r \\sin \\theta} \\frac{\\partial}{\\partial \\phi} \\vec{\\hat{\\phi}} \\right) = \\frac{d}{dr} \\vec{\\hat{r}} \\quad$ (by spherical symmetry).\n",
    "* isothermal sphere: $\\quad P = c_s^2 \\rho \\quad \\longrightarrow \\quad \\frac{1}{\\rho} \\frac{dP}{dr} = \\frac{c_s^2}{\\rho} \\frac{d\\rho}{dr} = c_s^2 \\frac{d \\ln \\rho}{dr}$.\n",
    "* hydrostatic equilibrium for isothermal sphere: $\\quad \\frac{1}{\\rho} \\vec{\\nabla}P = -\\vec{\\nabla} \\Phi \\quad \\longrightarrow \\quad c_s^2 \\frac{d \\ln \\rho}{dr} = -\\frac{d\\Phi}{dr}$.\n",
    "* Poisson equation with spherical symmetry: $\\quad \\vec{\\nabla}^2 \\Phi = 4 \\pi G \\rho \\quad \\longrightarrow \\quad \\frac{1}{r^2} \\frac{d}{dr} \\left( r^2 \\frac{d\\Phi}{dr} \\right) = 4 \\pi G \\rho$.  \n",
    "\n",
    "### 2. Lane-Emden equation.\n",
    "Let $\\xi = (\\sqrt{4 \\pi G \\rho_c}/c_s) r$ be the dimensionless radial parameter, and let $\\psi = -\\ln(\\rho/\\rho_c)$ be the scaled gravitational potential,\n",
    "$$ c_s^2 \\frac{d \\ln \\rho}{dr} = -\\frac{d\\Phi}{dr} \\quad \\longrightarrow \\quad c_s^2 \\int_0^r \\frac{d \\ln \\rho}{dr} = - \\int_0^r \\frac{d\\Phi}{dr} \\quad \\longrightarrow \\quad \\Phi(r) = -c_s^2 \\ln \\left(\\frac{\\rho}{\\rho_c} \\right) \\quad \\longrightarrow \\quad \\psi(\\xi) = \\frac{\\Phi(r)}{c_s^2}, $$\n",
    "where $\\rho_c$ is the central density. Using the new variable $\\xi$ in place of $r$,\n",
    "$$ \\frac{d}{dr} = \\frac{\\sqrt{4 \\pi G \\rho_c}}{c_s} \\frac{d}{d\\xi} \\quad \\text{and} \\quad \\frac{d}{dr}\\left( r^2 \\frac{d }{dr} \\right) = \\frac{\\sqrt{4 \\pi G \\rho_c}}{c_s} \\frac{d}{d\\xi}\\left( \\frac{c_s^2}{4 \\pi G \\rho_c} \\frac{\\sqrt{4 \\pi G \\rho_c}}{c_s} \\xi^2 \\frac{d}{d\\xi} \\right) = \\frac{d}{d\\xi} \\left( \\xi^2 \\frac{d}{d\\xi} \\right). $$\n",
    "The Poisson equation becomes the Lane-Emden equation:\n",
    "$$ -\\frac{c_s^2}{4 \\pi G \\rho_c} \\bigg[ \\frac{1}{r^2} \\frac{d}{dr} \\ln \\left( \\frac{\\rho}{\\rho_c} \\right) \\bigg] = \\frac{\\rho}{\\rho_c} \\quad \\longrightarrow \\quad \\frac{1}{\\xi^2} \\frac{d}{d\\xi} \\left( \\xi^2 \\frac{d\\psi}{d\\xi} \\right)= e^{-\\psi}. $$\n",
    "\n",
    "### 3. Numerical solution for $\\psi(x)$.\n",
    "Write the second-order ODE in terms of two coupled ODEs.\n",
    "$$ \\frac{1}{\\xi^2} \\frac{d}{d\\xi} \\left( \\xi^2 \\frac{d\\psi}{d\\xi} \\right)= e^{-\\psi} \\quad \\longrightarrow \\quad \\frac{d\\psi}{d\\xi} = \\frac{y}{\\xi^2}, \\quad \\frac{dy}{d\\xi} = \\xi^2 e^{-\\psi(\\xi)}.$$\n",
    "Applying the boundary conditions $\\psi(0) = 0$ and $d\\psi(0)/d\\xi = 0$, we can numerically integrate\n",
    "$$ y(\\xi) = \\int_0^{\\xi} \\xi^2 e^{-\\psi(\\xi)} d\\xi, \\quad \\psi(\\xi) = \\int_0^{\\xi} \\frac{1}{\\xi^2} y d\\xi. $$"
   ]
  },
  {
   "cell_type": "code",
   "execution_count": 18,
   "id": "df99dda3",
   "metadata": {},
   "outputs": [],
   "source": [
    "# Numerical solution to Lane-Emden equation.\n",
    "dxi = 0.005\n",
    "N   = 2000\n",
    "\n",
    "xi  = 0.005\n",
    "y1  = 0.0\n",
    "psi = 0.0\n",
    "\n",
    "xi_sol  = [0.]\n",
    "psi_sol = [0.]\n",
    "\n",
    "for i in range(N-1):\n",
    "    y1  += xi**2 * np.exp(-psi) * dxi\n",
    "    psi += y1/xi**2 * dxi\n",
    "    xi_sol.append(xi)\n",
    "    psi_sol.append(psi)\n",
    "    xi  += dxi\n",
    "    \n",
    "rho_contrast = np.exp(-np.asarray(psi_sol))"
   ]
  },
  {
   "cell_type": "markdown",
   "id": "3e8b1382-6f7e-4edd-915e-00a15413c151",
   "metadata": {},
   "source": [
    "### Steps for finding column density\n",
    "* Iterate over $\\xi$ to generate data for multiple maximum radius $\\xi_{max}$\n",
    "* For each $\\xi_{max}$, iterate over $\\xi$ from center to $\\xi_{max}$, denoted as $\\xi_x$. \n",
    "* Find column density for each $\\xi_x$ using the following:\n",
    "$$ N(\\xi_x) = 2c_s \\sqrt{\\frac{\\rho_c}{4 \\pi G}} \\int_{\\xi_x}^{\\xi{max}} \\frac{e^{-\\psi} \\xi d\\xi}{\\sqrt{\\xi^2 - \\xi_x^2}} $$\n",
    "where $e^{-\\psi} = \\frac{\\rho}{\\rho_c}$, i.e. the **rho_contrast** variable, and the constants in front can be substituted later"
   ]
  },
  {
   "cell_type": "code",
   "execution_count": 27,
   "id": "d74bf6c1-cf1f-4c67-ad2b-8c8debe9e15b",
   "metadata": {},
   "outputs": [],
   "source": [
    "colden = np.zeros((N,N))\n",
    "for i in range(800, 1500, 2): # for xi_max\n",
    "    for j in range(N): # for xi_x\n",
    "        xi_x = xi_sol[j]\n",
    "        integral = 0\n",
    "        for k in range(j+1,i+1): # for dummy xi\n",
    "            integral += rho_contrast[k] * xi_sol[k] * dxi / np.sqrt(xi_sol[k]**2 - xi_x**2)\n",
    "        colden[i,j] = integral"
   ]
  },
  {
   "cell_type": "code",
   "execution_count": 152,
   "id": "63573f0d-8dd7-481a-9fcb-3f2b5de62311",
   "metadata": {},
   "outputs": [
    {
     "name": "stdout",
     "output_type": "stream",
     "text": [
      "cs = 2.578e+02\n"
     ]
    }
   ],
   "source": [
    "# Define constants\n",
    "temp = 16. # Kelvin\n",
    "distance = 125. * 3.086e16 # metre\n",
    "k_B = 1.38e-23\n",
    "m_H2 = 2e-3/6.022e23 # kg\n",
    "cs = np.sqrt(k_B * temp / m_H2) # m/s\n",
    "G = 6.67e-11\n",
    "\n",
    "print(\"cs = {0:.3e}\".format(cs))"
   ]
  },
  {
   "cell_type": "markdown",
   "id": "fe60c102",
   "metadata": {},
   "source": [
    "## Alves, Lada, & Lada 2001, Nature, 409, 159\n",
    "* $\\xi_{\\rm max} = 6.9 \\; (\\pm \\; 0.2) \\quad \\longrightarrow \\quad \\rho_R/\\rho_c = 6.030 \\times 10^{-2}$.  \n",
    "* \"extinction profile in Fig. 2 is the two-dimensional projection of the cloud volume density profile function $\\rho(r)$, where $r$ is the radial distance from the center of the cloud.\""
   ]
  },
  {
   "cell_type": "code",
   "execution_count": 187,
   "id": "98461d5e-5f54-487a-b08c-ea4708142ffa",
   "metadata": {},
   "outputs": [
    {
     "name": "stdout",
     "output_type": "stream",
     "text": [
      "18\n",
      "Central density = 6.600000000000001e-16\n",
      "1124\n"
     ]
    }
   ],
   "source": [
    "df_rau = radius_au\n",
    "data_len = df_rau.shape[0]\n",
    "num = 50\n",
    "rms_error = np.zeros((num, N))\n",
    "coeff = 2*1.926e-3\n",
    "\n",
    "rhoc_base = 3e-16\n",
    "drhoc = 2e-17\n",
    "rho_c = [rhoc_base+i*drhoc for i in range(num)]\n",
    "for h in range(num):\n",
    "    radius = np.asarray(xi_sol) * cs / np.sqrt(4.*np.pi*G*rho_c[h]) * 6.68e-12 # AU\n",
    "    vis = colden[:,:] * 2*cs * np.sqrt(rho_c[h]/(4*np.pi*G)) *1e3 /1e4 / (coeff)\n",
    "    for i in range(N):\n",
    "        error = 0\n",
    "        for j in range(data_len):\n",
    "            idx_radius = np.argmin(np.abs(radius - df_rau[j]))\n",
    "            sim_vis = vis[i,idx_radius]\n",
    "            error += np.power(visual_extinction[j] - sim_vis, 2)\n",
    "        rms_error[h,i] = np.sqrt(error)\n",
    "idx_xi_close = np.unravel_index(rms_error.argmin(), rms_error.shape)\n",
    "print(idx_xi_close[0])\n",
    "rho_center = rho_c[idx_xi_close[0]]\n",
    "print(\"Central density = {}\".format(rho_center))\n",
    "idx_xi = idx_xi_close[1]\n",
    "print(idx_xi)"
   ]
  },
  {
   "cell_type": "code",
   "execution_count": 188,
   "id": "36851a23-7fd9-404b-a6cc-925486ba2e8b",
   "metadata": {},
   "outputs": [
    {
     "name": "stdout",
     "output_type": "stream",
     "text": [
      "1538.1556096976233 1535.2587009533\n",
      "1953.8733420483256 1955.01710256654\n",
      "2369.5910743990253 2372.0604684162\n",
      "2785.308806749725 2781.51751287787\n",
      "3184.397829806397 3188.29432992006\n",
      "3583.486852863069 3582.53555780734\n",
      "3982.57587591974 3979.99837765282\n",
      "4373.350544329399 4371.55113851345\n",
      "4764.125212739056 4760.8384331521\n",
      "5154.899881148714 5155.38928596232\n",
      "5537.360194911358 5535.21759433343\n",
      "5928.1348633210155 5926.15494208112\n",
      "6310.59517708366 6308.72283243829\n",
      "6676.426781552275 6677.90189037446\n",
      "7050.572740667906 7048.61340738833\n",
      "7416.404345136521 7418.7787562622\n",
      "7807.17901354618 7808.38372787992\n",
      "8173.010618014795 8171.84305427757\n",
      "8555.47093177744 8552.22043779808\n",
      "8921.302536246054 8924.88906386158\n",
      "9287.13414071467 9287.35052867841\n",
      "9661.2800998303 9664.53243568081\n",
      "10027.111704298915 10028.4757654641\n",
      "10376.314599473502 10376.5762412258\n",
      "10767.08926788316 10767.3334489971\n",
      "11107.977808410735 11109.4455684586\n",
      "11498.752476820393 11495.0678083952\n",
      "11856.269726641995 11860.302342081\n",
      "12205.472621816582 12202.3942762735\n",
      "12554.67551699117 12554.3533190829\n",
      "12920.507121459787 12916.4640718773\n",
      "13286.338725928405 13289.0193449076\n",
      "13668.799039691112 13672.3203940798\n",
      "13984.744516277697 13986.906177067\n",
      "14392.147893981455 14390.3366841043\n",
      "14724.722079862076 14721.4432704581\n",
      "15057.296265742692 15060.1682728319\n",
      "15406.499160917341 15406.6869830048\n",
      "15764.016410739008 15761.1787260367\n"
     ]
    }
   ],
   "source": [
    "for j in range(data_len):\n",
    "    idx_radius = np.argmin(np.abs(radius - df_rau[j]))\n",
    "    print(radius[idx_radius], df_rau[j])"
   ]
  },
  {
   "cell_type": "code",
   "execution_count": 189,
   "id": "c8c02d85-72ef-425a-92c5-30513d9f8abb",
   "metadata": {},
   "outputs": [
    {
     "data": {
      "image/png": "[encoded data removed]",
      "text/plain": [
       "<Figure size 720x720 with 1 Axes>"
      ]
     },
     "metadata": {
      "needs_background": "light"
     },
     "output_type": "display_data"
    }
   ],
   "source": [
    "radius_final = np.asarray(xi_sol) * cs / np.sqrt(4.*np.pi*G*rho_center) * 6.68e-12 # AU\n",
    "vis_final = colden * 2*cs * np.sqrt(rho_center/(4*np.pi*G)) *1e3/1e4 / (coeff)\n",
    "plt.figure(figsize=(10,10))\n",
    "plt.plot(df_rau, visual_extinction, '.')\n",
    "plt.xlim([1e3,2e4])\n",
    "plt.ylim([0.28,40])\n",
    "plt.xscale('log')\n",
    "plt.yscale('log')\n",
    "plt.plot(radius_final, vis_final[idx_xi,:])\n",
    "plt.show()"
   ]
  },
  {
   "cell_type": "code",
   "execution_count": 190,
   "id": "78abd3ed-4303-4ea4-8c7f-2a19578784a9",
   "metadata": {},
   "outputs": [
    {
     "name": "stdout",
     "output_type": "stream",
     "text": [
      "xi max = 5.619999999999902\n",
      "Max radius = 13014.5115626872\n",
      "Center to edge density ratio = 10.130276011635589\n"
     ]
    }
   ],
   "source": [
    "print(\"xi max = {}\".format(xi_sol[idx_xi]))\n",
    "print(\"Max radius = {}\".format(radius_final[idx_xi]))\n",
    "print(\"Center to edge density ratio = {}\".format(1/rho_contrast[idx_xi]))"
   ]
  },
  {
   "cell_type": "code",
   "execution_count": 135,
   "id": "e2f056db-aeec-4571-a77c-e9b01b7ec84e",
   "metadata": {},
   "outputs": [
    {
     "name": "stdout",
     "output_type": "stream",
     "text": [
      "1380 16.602704969152946\n"
     ]
    }
   ],
   "source": [
    "idx_xi_max = np.argmin(np.abs(np.asarray(xi_sol) - 6.9))\n",
    "print(idx_xi_max, 1/rho_contrast[idx_xi_max])"
   ]
  },
  {
   "cell_type": "code",
   "execution_count": 132,
   "id": "6b4d059e-20e1-4fb6-87b8-a822b07cd129",
   "metadata": {},
   "outputs": [
    {
     "data": {
      "text/plain": [
       "1377"
      ]
     },
     "execution_count": 132,
     "metadata": {},
     "output_type": "execute_result"
    }
   ],
   "source": [
    "np.argmin(np.abs(np.asarray(rho_contrast) - 1/16.5))"
   ]
  },
  {
   "cell_type": "code",
   "execution_count": 154,
   "id": "58d23953-8f53-4b64-a547-6b45592e8efd",
   "metadata": {},
   "outputs": [
    {
     "data": {
      "text/plain": [
       "1.078462893613741e-15"
      ]
     },
     "execution_count": 154,
     "metadata": {},
     "output_type": "execute_result"
    }
   ],
   "source": [
    "(6.9 * cs * 6.68e-12 / (12500 * np.sqrt(4*np.pi*G)))**2"
   ]
  },
  {
   "cell_type": "code",
   "execution_count": 176,
   "id": "c5a8c097-b080-4874-8e74-601719ad2373",
   "metadata": {},
   "outputs": [
    {
     "data": {
      "text/plain": [
       "0.0038525406841580867"
      ]
     },
     "execution_count": 176,
     "metadata": {},
     "output_type": "execute_result"
    }
   ],
   "source": [
    "1.16e21*m_H2*1e3"
   ]
  },
  {
   "cell_type": "code",
   "execution_count": null,
   "id": "6447eade-ae8c-467c-b53e-6b7d4b7dfa79",
   "metadata": {},
   "outputs": [],
   "source": []
  }
 ],
 "metadata": {
  "kernelspec": {
   "display_name": "Python 3 (ipykernel)",
   "language": "python",
   "name": "python3"
  },
  "language_info": {
   "codemirror_mode": {
    "name": "ipython",
    "version": 3
   },
   "file_extension": ".py",
   "mimetype": "text/x-python",
   "name": "python",
   "nbconvert_exporter": "python",
   "pygments_lexer": "ipython3",
   "version": "3.9.12"
  }
 },
 "nbformat": 4,
 "nbformat_minor": 5
}
