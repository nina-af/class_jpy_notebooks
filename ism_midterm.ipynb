{
 "cells": [
  {
   "cell_type": "code",
   "execution_count": 396,
   "id": "125a7deb",
   "metadata": {},
   "outputs": [],
   "source": [
    "import numpy as np\n",
    "import matplotlib as mpl\n",
    "import matplotlib.pyplot as plt\n",
    "import pandas as pd"
   ]
  },
  {
   "cell_type": "code",
   "execution_count": 544,
   "id": "ec8b8e23-b2a7-4afe-9422-3ef1408a1ae6",
   "metadata": {},
   "outputs": [],
   "source": [
    "df = pd.read_csv(\"alves_lada_nature_data.csv\")\n",
    "df.head()\n",
    "df_rau = np.asarray(df['radius_au'])\n",
    "df_extinction = np.asarray(df['visual_extinction'])\n",
    "df_len = df_rau.shape[0]"
   ]
  },
  {
   "cell_type": "markdown",
   "id": "867cde07",
   "metadata": {},
   "source": [
    "$\\newcommand{\\vec}[1]{{\\mathbf{\\boldsymbol{{#1}}}}}$\n",
    "\n",
    "## Numerical solution to Lane-Emden equation.\n",
    "\n",
    "### 1. Isothermal sphere in hydrostatic equilibrium.\n",
    "\n",
    "* momentum equation: $\\quad \\rho \\frac{d\\vec{v}}{dt} + \\vec{\\nabla}P + \\rho \\vec{\\nabla} \\Phi = 0 \\quad \\longrightarrow \\quad \\frac{1}{\\rho} \\vec{\\nabla}P = -\\vec{\\nabla} \\Phi \\quad$ (in hydrostatic equilibrium).\n",
    "* gradient in spherical coordinates: $\\quad \\vec{\\nabla} = \\left( \\frac{\\partial}{\\partial r} \\vec{\\hat{r}} + \\frac{1}{r} \\frac{\\partial}{\\partial \\theta} \\vec{\\hat{\\theta}} + \\frac{1}{r \\sin \\theta} \\frac{\\partial}{\\partial \\phi} \\vec{\\hat{\\phi}} \\right) = \\frac{d}{dr} \\vec{\\hat{r}} \\quad$ (by spherical symmetry).\n",
    "* isothermal sphere: $\\quad P = c_s^2 \\rho \\quad \\longrightarrow \\quad \\frac{1}{\\rho} \\frac{dP}{dr} = \\frac{c_s^2}{\\rho} \\frac{d\\rho}{dr} = c_s^2 \\frac{d \\ln \\rho}{dr}$.\n",
    "* hydrostatic equilibrium for isothermal sphere: $\\quad \\frac{1}{\\rho} \\vec{\\nabla}P = -\\vec{\\nabla} \\Phi \\quad \\longrightarrow \\quad c_s^2 \\frac{d \\ln \\rho}{dr} = -\\frac{d\\Phi}{dr}$.\n",
    "* Poisson equation with spherical symmetry: $\\quad \\vec{\\nabla}^2 \\Phi = 4 \\pi G \\rho \\quad \\longrightarrow \\quad \\frac{1}{r^2} \\frac{d}{dr} \\left( r^2 \\frac{d\\Phi}{dr} \\right) = 4 \\pi G \\rho$.  \n",
    "\n",
    "### 2. Lane-Emden equation.\n",
    "Let $\\xi = (\\sqrt{4 \\pi G \\rho_c}/c_s) r$ be the dimensionless radial parameter, and let $\\psi = -\\ln(\\rho/\\rho_c)$ be the scaled gravitational potential,\n",
    "$$ c_s^2 \\frac{d \\ln \\rho}{dr} = -\\frac{d\\Phi}{dr} \\quad \\longrightarrow \\quad c_s^2 \\int_0^r \\frac{d \\ln \\rho}{dr} = - \\int_0^r \\frac{d\\Phi}{dr} \\quad \\longrightarrow \\quad \\Phi(r) = -c_s^2 \\ln \\left(\\frac{\\rho}{\\rho_c} \\right) \\quad \\longrightarrow \\quad \\psi(\\xi) = \\frac{\\Phi(r)}{c_s^2}, $$\n",
    "where $\\rho_c$ is the central density. Using the new variable $\\xi$ in place of $r$,\n",
    "$$ \\frac{d}{dr} = \\frac{\\sqrt{4 \\pi G \\rho_c}}{c_s} \\frac{d}{d\\xi} \\quad \\text{and} \\quad \\frac{d}{dr}\\left( r^2 \\frac{d }{dr} \\right) = \\frac{\\sqrt{4 \\pi G \\rho_c}}{c_s} \\frac{d}{d\\xi}\\left( \\frac{c_s^2}{4 \\pi G \\rho_c} \\frac{\\sqrt{4 \\pi G \\rho_c}}{c_s} \\xi^2 \\frac{d}{d\\xi} \\right) = \\frac{d}{d\\xi} \\left( \\xi^2 \\frac{d}{d\\xi} \\right). $$\n",
    "The Poisson equation becomes the Lane-Emden equation:\n",
    "$$ -\\frac{c_s^2}{4 \\pi G \\rho_c} \\bigg[ \\frac{1}{r^2} \\frac{d}{dr} \\ln \\left( \\frac{\\rho}{\\rho_c} \\right) \\bigg] = \\frac{\\rho}{\\rho_c} \\quad \\longrightarrow \\quad \\frac{1}{\\xi^2} \\frac{d}{d\\xi} \\left( \\xi^2 \\frac{d\\psi}{d\\xi} \\right)= e^{-\\psi}. $$\n",
    "\n",
    "### 3. Numerical solution for $\\psi(x)$.\n",
    "Write the second-order ODE in terms of two coupled ODEs.\n",
    "$$ \\frac{1}{\\xi^2} \\frac{d}{d\\xi} \\left( \\xi^2 \\frac{d\\psi}{d\\xi} \\right)= e^{-\\psi} \\quad \\longrightarrow \\quad \\frac{d\\psi}{d\\xi} = \\frac{y}{\\xi^2}, \\quad \\frac{dy}{d\\xi} = \\xi^2 e^{-\\psi(\\xi)}.$$\n",
    "Applying the boundary conditions $\\psi(0) = 0$ and $d\\psi(0)/d\\xi = 0$, we can numerically integrate\n",
    "$$ y(\\xi) = \\int_0^{\\xi} \\xi^2 e^{-\\psi(\\xi)} d\\xi, \\quad \\psi(\\xi) = \\int_0^{\\xi} \\frac{1}{\\xi^2} y d\\xi. $$"
   ]
  },
  {
   "cell_type": "code",
   "execution_count": 398,
   "id": "df99dda3",
   "metadata": {},
   "outputs": [],
   "source": [
    "# Numerical solution to Lane-Emden equation.\n",
    "dxi = 0.01\n",
    "N   = 750\n",
    "\n",
    "xi  = 0.01\n",
    "y1  = 0.0\n",
    "psi = 0.0\n",
    "\n",
    "xi_sol  = [0.]\n",
    "psi_sol = [0.]\n",
    "\n",
    "for i in range(N-1):\n",
    "    y1  += xi**2 * np.exp(-psi) * dxi\n",
    "    psi += y1/xi**2 * dxi\n",
    "    xi_sol.append(xi)\n",
    "    psi_sol.append(psi)\n",
    "    xi  += dxi\n",
    "    \n",
    "rho_contrast = np.exp(-np.asarray(psi_sol))"
   ]
  },
  {
   "cell_type": "markdown",
   "id": "3e8b1382-6f7e-4edd-915e-00a15413c151",
   "metadata": {},
   "source": [
    "### Steps for finding column density\n",
    "* Iterate over $\\xi$ to generate data for multiple maximum radius $\\xi_{max}$\n",
    "* For each $\\xi_{max}$, iterate over $\\xi$ from center to $\\xi_{max}$, denoted as $\\xi_x$. \n",
    "* Find column density for each $\\xi_x$ using the following:\n",
    "$$ N(\\xi_x) = 2c_s \\sqrt{\\frac{\\rho_c}{4 \\pi G}} \\int_{\\xi_x}^{\\xi{max}} \\frac{e^{-\\psi} \\xi d\\xi}{\\sqrt{\\xi^2 - \\xi_x^2}} $$\n",
    "where $e^{-\\psi} = \\frac{\\rho}{\\rho_c}$, i.e. the **rho_contrast** variable, and the constants in front can be substituted later"
   ]
  },
  {
   "cell_type": "code",
   "execution_count": 509,
   "id": "91226750-dab3-4bd5-abcd-74da6ba8d452",
   "metadata": {},
   "outputs": [],
   "source": [
    "# colden is the dimensionless column density of H2\n",
    "colden = np.zeros((N,N))\n",
    "for i in range(N): # for xi_max\n",
    "    for j in range(i+1): # for xi_x\n",
    "        xi_x = xi_sol[j]\n",
    "        integral = 0\n",
    "        for k in range(j+1,i+1): # for dummy xi\n",
    "            integral += rho_contrast[k] * xi_sol[k] * dxi / np.sqrt(xi_sol[k]**2 - xi_x**2)\n",
    "        colden[i,j] = integral"
   ]
  },
  {
   "cell_type": "raw",
   "id": "262cceb8-207e-401d-a761-2ac013516468",
   "metadata": {},
   "source": [
    "coldenc = np.zeros(N)\n",
    "for i in range(N):\n",
    "    integral = 0\n",
    "    for j in range(i+1):\n",
    "        integral += rho_contrast[k] * dxi\n",
    "    coldenc[i] = integral"
   ]
  },
  {
   "cell_type": "code",
   "execution_count": 660,
   "id": "63573f0d-8dd7-481a-9fcb-3f2b5de62311",
   "metadata": {},
   "outputs": [
    {
     "name": "stdout",
     "output_type": "stream",
     "text": [
      "cs = 2.569e+04\n"
     ]
    }
   ],
   "source": [
    "# Define constants\n",
    "temp = 16. # Kelvin\n",
    "distance = 125. * 3.086e18 # cm\n",
    "k_B = 1.3807e-16 # cm^2 g s^-2 K^-1\n",
    "m_H2 = 2.016/6.022e23 # g\n",
    "cs = np.sqrt(k_B * temp / m_H2) # cm/s\n",
    "G = 6.67e-8 #cm^3 g^-1 s^-2\n",
    "\n",
    "print(\"cs = {0:.3e}\".format(cs))"
   ]
  },
  {
   "cell_type": "raw",
   "id": "02d98cac-28e3-4639-8dab-039febaed538",
   "metadata": {},
   "source": [
    "colden_center = coldenc[:] * 2 * np.sqrt(2.090e5*k_B * temp / (4 * np.pi * G))\n",
    "idx_xi_max = np.argmin(np.abs(np.asarray(xi_sol) - 6.99))\n",
    "print(xi_sol[idx_xi_max])\n",
    "colden_center[idx_xi_max] / m_H2"
   ]
  },
  {
   "cell_type": "markdown",
   "id": "fe60c102",
   "metadata": {},
   "source": [
    "## Alves, Lada, & Lada 2001, Nature, 409, 159\n",
    "* $\\xi_{\\rm max} = 6.9 \\; (\\pm \\; 0.2) \\quad \\longrightarrow \\quad \\rho_R/\\rho_c = 6.030 \\times 10^{-2}$.  \n",
    "* \"extinction profile in Fig. 2 is the two-dimensional projection of the cloud volume density profile function $\\rho(r)$, where $r$ is the radial distance from the center of the cloud.\""
   ]
  },
  {
   "cell_type": "code",
   "execution_count": 677,
   "id": "2aa1c683-32ee-4b29-ba65-9e6939ce9fc9",
   "metadata": {},
   "outputs": [
    {
     "name": "stdout",
     "output_type": "stream",
     "text": [
      "47\n",
      "Central density = 8.286427728546859e-19\n",
      "673\n"
     ]
    }
   ],
   "source": [
    "rhoc_vary = 50\n",
    "rms_error = np.zeros((rhoc_vary, N))\n",
    "coeff = 2.52e21 #protons cm^-2 mag^-1\n",
    "\n",
    "# rhoc_base = 1e-17#5e-19#2.090e5*m_H2/2\n",
    "# drhoc = 5e-21\n",
    "# rho_c = [rhoc_base+i*drhoc for i in range(rhoc_vary)]\n",
    "\n",
    "rho_c = np.logspace(-20,-18,rhoc_vary)\n",
    "\n",
    "for h in range(rhoc_vary):\n",
    "    radius = np.asarray(xi_sol) * cs * np.sqrt(1 / (4.*np.pi*G*rho_c[h])) * 6.68e-14 # AU\n",
    "    # colnumden is the dimension-ful column number density of H-atoms or protons\n",
    "    colnumden = colden[:,:] * 2 * cs * np.sqrt(rho_c[h]/(4*np.pi*G)) * 2 / m_H2 \n",
    "    vis = colnumden / coeff\n",
    "    for i in range(N):\n",
    "        error = 0\n",
    "        for j in range(df_len):\n",
    "            idx_radius = np.argmin(np.abs(radius - df_rau[j]))\n",
    "            sim_vis = vis[i,idx_radius]\n",
    "            error += np.power(df_extinction[j] - sim_vis, 2)\n",
    "        rms_error[h,i] = np.sqrt(error)\n",
    "idx_xi_close = np.unravel_index(rms_error.argmin(), rms_error.shape)\n",
    "print(idx_xi_close[0])\n",
    "rho_center = rho_c[idx_xi_close[0]]\n",
    "print(\"Central density = {}\".format(rho_center))\n",
    "idx_xi = idx_xi_close[1]\n",
    "print(idx_xi)"
   ]
  },
  {
   "cell_type": "raw",
   "id": "3a2624c4-9609-4439-bc84-f78f0c57379b",
   "metadata": {},
   "source": [
    "for j in range(data_len):\n",
    "    idx_radius = np.argmin(np.abs(radius - df_rau[j]))\n",
    "    print(radius[idx_radius], df_rau[j])"
   ]
  },
  {
   "cell_type": "code",
   "execution_count": 678,
   "id": "c8c02d85-72ef-425a-92c5-30513d9f8abb",
   "metadata": {},
   "outputs": [
    {
     "data": {
      "image/png": "[encoded data removed]",
      "text/plain": [
       "<Figure size 720x720 with 1 Axes>"
      ]
     },
     "metadata": {
      "needs_background": "light"
     },
     "output_type": "display_data"
    }
   ],
   "source": [
    "radius_final = np.asarray(xi_sol) * cs / np.sqrt(4.*np.pi*G*rho_center) * 6.68e-14 # AU\n",
    "vis_final = colden * 2*cs * np.sqrt(rho_center/(4*np.pi*G)) * 2 / (m_H2 * coeff)\n",
    "plt.figure(figsize=(10,10))\n",
    "plt.plot(df_rau, df_extinction, '.')\n",
    "plt.xlim([1e3,2e4])\n",
    "plt.ylim([0.28,40])\n",
    "plt.xscale('log')\n",
    "plt.yscale('log')\n",
    "plt.plot(radius_final, vis_final[idx_xi,:])\n",
    "plt.show()"
   ]
  },
  {
   "cell_type": "code",
   "execution_count": 679,
   "id": "78abd3ed-4303-4ea4-8c7f-2a19578784a9",
   "metadata": {},
   "outputs": [
    {
     "name": "stdout",
     "output_type": "stream",
     "text": [
      "xi max = 6.729999999999901\n",
      "Max radius = 13857.177172278405\n",
      "Center to edge density ratio = 15.656155705759867\n"
     ]
    }
   ],
   "source": [
    "print(\"xi max = {}\".format(xi_sol[idx_xi]))\n",
    "print(\"Max radius = {}\".format(radius_final[idx_xi]))\n",
    "print(\"Center to edge density ratio = {}\".format(1/rho_contrast[idx_xi]))"
   ]
  },
  {
   "cell_type": "markdown",
   "id": "2dec6183-06c1-4de3-a5e0-3f6cc1983d29",
   "metadata": {},
   "source": [
    "$$ M(R) = \\int_0^R 4\\pi r^2 \\rho(r) dr  = \\int_0^R 4\\pi r^2 \\rho_c e^{-\\psi} dr $$\n",
    "$$ \\Rightarrow M(\\xi) = \\Big(\\frac{c_s^2}{G}\\Big)^{3/2} \\frac{1}{\\sqrt{4\\pi \\rho_c}} \\Big[ \\xi^2 \\frac{d\\psi}{d\\xi} \\Big]_{\\xi=\\xi_{max}} $$"
   ]
  },
  {
   "cell_type": "code",
   "execution_count": 680,
   "id": "11608a48-f3c8-492e-98a3-15e1e38e8645",
   "metadata": {},
   "outputs": [
    {
     "data": {
      "text/plain": [
       "2.5312975323025735"
      ]
     },
     "execution_count": 680,
     "metadata": {},
     "output_type": "execute_result"
    }
   ],
   "source": [
    "M_xi_sol = []\n",
    "for i in range(1, N-1):\n",
    "    dpsi_dxi = (psi_sol[i+1] - psi_sol[i-1]) / (2*dxi)\n",
    "    M_xi_sol.append(np.power(xi_sol[i], 2) * dpsi_dxi)\n",
    "    # m_xi_sol.append(np.sqrt(rho_contrast[i]) * np.power(xi_sol[i], 2) * dpsi_dxi)\n",
    "M_xi = np.asarray(M_xi_sol) * np.power(cs**2/G, 3./2.) / np.sqrt(4*np.pi*rho_center)\n",
    "M_xi[idx_xi] / 1.988e33"
   ]
  },
  {
   "cell_type": "code",
   "execution_count": null,
   "id": "8d1a7d62-813b-420c-a9d1-91616da08c55",
   "metadata": {},
   "outputs": [],
   "source": []
  }
 ],
 "metadata": {
  "kernelspec": {
   "display_name": "Python 3 (ipykernel)",
   "language": "python",
   "name": "python3"
  },
  "language_info": {
   "codemirror_mode": {
    "name": "ipython",
    "version": 3
   },
   "file_extension": ".py",
   "mimetype": "text/x-python",
   "name": "python",
   "nbconvert_exporter": "python",
   "pygments_lexer": "ipython3",
   "version": "3.9.12"
  }
 },
 "nbformat": 4,
 "nbformat_minor": 5
}
